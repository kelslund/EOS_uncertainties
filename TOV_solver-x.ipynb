{
 "cells": [
  {
   "cell_type": "code",
   "execution_count": 1,
   "id": "27154484",
   "metadata": {},
   "outputs": [],
   "source": [
    "import numpy as np\n",
    "import matplotlib.pyplot as plt\n",
    "from scipy.integrate import solve_ivp\n",
    "from scipy.integrate import odeint\n",
    "from scipy.interpolate import interp1d\n",
    "\n",
    "nuc_to_astro = 0.8629*1e-6\n",
    "\n",
    "def read_eos(pathname):\n",
    "    \"\"\"\n",
    "    Read in equation of state information from tabulated format.\n",
    "    This is written assuming the following order:\n",
    "    0: number density [fm-3]\n",
    "    1: pressure [Mev fm-3]\n",
    "    2: energy density [Mev fm-3]\n",
    "    Conversion factor: 1 [Mev fm-3] = 0.89629x10^-6 [Msol c2 km-3]\n",
    "    \"\"\"\n",
    "    \n",
    "    src = np.loadtxt(pathname, comments='#')\n",
    "    P, e = src[:,1], src[:,2]\n",
    "    p, e = P*nuc_to_astro, e*nuc_to_astro\n",
    "    return (p,e)\n",
    "    \n",
    "def make_derivs_func(pathname):\n",
    "    pdata, edata = read_eos(pathname)\n",
    "    eos = interp1d(pdata,edata)\n",
    "    \n",
    "    \n",
    "    def derivs(p,y):\n",
    "        \"\"\"\n",
    "        e: e_of_P function\n",
    "        \"\"\"\n",
    "        e = eos(p)\n",
    "        x,m = y\n",
    "        dxdp = -2*x*(np.sqrt(x)-(2*m))/((e+p)*(m+(4*np.pi*p*x**(3/2))))\n",
    "        dmdp = -((4*np.pi*e*x**(3/2))*(np.sqrt(x)-2*m))/((e+p)*(m+(4*np.pi*p*x**(3/2))))\n",
    "        return dxdp,dmdp\n",
    "    \n",
    "    return derivs\n",
    "\n",
    "def solve_tov(p_init,pathname):\n",
    "    \"\"\"\n",
    "    Inputs:\n",
    "    - p,e: functions for EOS\n",
    "    - p_init: Value of central pressure (start with 0.8*nuc_to_astro)\n",
    "    Initial conditions: P(0) = P[index]\n",
    "    \"\"\"\n",
    "    \n",
    "    derivs = make_derivs_func(pathname)\n",
    "\n",
    "    p_range = [p_init,1e-14]\n",
    "    y0 = [1e-14,1e-14]\n",
    "    sol = solve_ivp(derivs, p_range, y0, dense_output=True, \n",
    "                    rtol=1e-7, atol=1e-7, max_step=1e-8)\n",
    "    return sol"
   ]
  },
  {
   "cell_type": "code",
   "execution_count": 2,
   "id": "2e9ff2d8",
   "metadata": {
    "scrolled": true
   },
   "outputs": [
    {
     "name": "stdout",
     "output_type": "stream",
     "text": [
      "5\n"
     ]
    },
    {
     "name": "stderr",
     "output_type": "stream",
     "text": [
      "/tmp/ipykernel_1496719/3391626599.py:35: RuntimeWarning: invalid value encountered in sqrt\n",
      "  dxdp = -2*x*(np.sqrt(x)-(2*m))/((e+p)*(m+(4*np.pi*p*x**(3/2))))\n",
      "/tmp/ipykernel_1496719/3391626599.py:35: RuntimeWarning: invalid value encountered in double_scalars\n",
      "  dxdp = -2*x*(np.sqrt(x)-(2*m))/((e+p)*(m+(4*np.pi*p*x**(3/2))))\n",
      "/tmp/ipykernel_1496719/3391626599.py:36: RuntimeWarning: invalid value encountered in double_scalars\n",
      "  dmdp = -((4*np.pi*e*x**(3/2))*(np.sqrt(x)-2*m))/((e+p)*(m+(4*np.pi*p*x**(3/2))))\n",
      "/tmp/ipykernel_1496719/3391626599.py:36: RuntimeWarning: invalid value encountered in sqrt\n",
      "  dmdp = -((4*np.pi*e*x**(3/2))*(np.sqrt(x)-2*m))/((e+p)*(m+(4*np.pi*p*x**(3/2))))\n"
     ]
    },
    {
     "name": "stdout",
     "output_type": "stream",
     "text": [
      "25\n",
      "45\n",
      "65\n",
      "85\n",
      "105\n",
      "125\n",
      "145\n",
      "165\n",
      "185\n",
      "205\n",
      "225\n",
      "245\n",
      "265\n",
      "285\n",
      "305\n",
      "325\n",
      "345\n",
      "365\n",
      "385\n",
      "405\n",
      "425\n",
      "445\n",
      "465\n",
      "485\n",
      "505\n",
      "525\n",
      "545\n",
      "565\n",
      "585\n",
      "605\n",
      "625\n",
      "645\n",
      "665\n",
      "685\n",
      "705\n",
      "725\n",
      "745\n",
      "765\n",
      "785\n",
      "805\n",
      "825\n",
      "845\n",
      "865\n",
      "885\n",
      "905\n",
      "925\n",
      "945\n",
      "965\n",
      "985\n",
      "1005\n",
      "1025\n",
      "1045\n",
      "1065\n",
      "1085\n",
      "1105\n",
      "1125\n",
      "1145\n",
      "1165\n",
      "1185\n",
      "1205\n",
      "1225\n",
      "1245\n",
      "1265\n",
      "1285\n",
      "1305\n",
      "1325\n",
      "1345\n",
      "1365\n",
      "1385\n",
      "1405\n",
      "1425\n",
      "1445\n",
      "1465\n",
      "1485\n",
      "1505\n",
      "1525\n",
      "1545\n",
      "1565\n",
      "1585\n",
      "1605\n",
      "1625\n",
      "1645\n",
      "1665\n",
      "1685\n",
      "1705\n",
      "1725\n",
      "1745\n",
      "1765\n",
      "1785\n",
      "1805\n",
      "1825\n",
      "1845\n",
      "1865\n",
      "1885\n",
      "1905\n",
      "1925\n",
      "1945\n",
      "1965\n",
      "1985\n"
     ]
    }
   ],
   "source": [
    "import traceback\n",
    "\n",
    "path = 'Nucleonic_EOS.dat'\n",
    "massradius = []\n",
    "P_vals = np.arange(5,2000,20)\n",
    "for P in P_vals:\n",
    "    print(P)\n",
    "    try:\n",
    "        init_p = P*nuc_to_astro\n",
    "        sol = solve_tov(init_p, path)\n",
    "        massradius.append([np.sqrt(sol.y[0][-1]), sol.y[1][-1]])\n",
    "    except:\n",
    "        traceback.print_exc()\n",
    "massradius = np.array(massradius)"
   ]
  },
  {
   "cell_type": "code",
   "execution_count": 6,
   "id": "8740798d",
   "metadata": {},
   "outputs": [
    {
     "data": {
      "image/png": "[encoded data removed]",
      "text/plain": [
       "<Figure size 720x720 with 1 Axes>"
      ]
     },
     "metadata": {
      "needs_background": "light"
     },
     "output_type": "display_data"
    }
   ],
   "source": [
    "length_to_mass = (3e5)**2/(4.3e-3)\n",
    "plt.figure(figsize=(10,10))\n",
    "mass, radius = massradius[:,1], massradius[:,0]\n",
    "#plt.plot(radius, mass,linewidth=3, color='teal')\n",
    "plt.plot(radius/1.4, mass/1.4,linewidth=3, color='teal')\n",
    "plt.scatter([radius/1.4], [mass/1.4], color='teal')\n",
    "plt.xlabel('Radius (km)',fontsize='large'), plt.ylabel(r'$\\rm{Mass (M_\\odot)}$',fontsize='large')\n",
    "plt.savefig('second_pass_scatter.png', facecolor='w', bbox_inches='tight')"
   ]
  },
  {
   "cell_type": "code",
   "execution_count": 45,
   "id": "32cf5792",
   "metadata": {},
   "outputs": [
    {
     "data": {
      "image/png": "[encoded data removed]",
      "text/plain": [
       "<Figure size 720x720 with 1 Axes>"
      ]
     },
     "metadata": {
      "needs_background": "light"
     },
     "output_type": "display_data"
    }
   ],
   "source": [
    "plt.figure(figsize=(10,10))\n",
    "pdata,edata = read_eos('Nucleonic_EOS.dat')\n",
    "plt.plot(pdata,edata)\n",
    "min(pdata/nuc_to_astro)\n",
    "\n",
    "interp = interp1d(pdata,edata)\n",
    "for i in range(5,3000,50):\n",
    "    plt.scatter([i*nuc_to_astro], [interp(i*nuc_to_astro)])"
   ]
  },
  {
   "cell_type": "code",
   "execution_count": 49,
   "id": "78c1e61b",
   "metadata": {},
   "outputs": [
    {
     "data": {
      "text/plain": [
       "array([   5,   25,   45,   65,   85,  105,  125,  145,  165,  185,  205,\n",
       "        225,  245,  265,  285,  305,  325,  345,  365,  385,  405,  425,\n",
       "        445,  465,  485,  505,  525,  545,  565,  585,  605,  625,  645,\n",
       "        665,  685,  705,  725,  745,  765,  785,  805,  825,  845,  865,\n",
       "        885,  905,  925,  945,  965,  985, 1005, 1025, 1045, 1065, 1085,\n",
       "       1105, 1125, 1145, 1165, 1185, 1205, 1225, 1245, 1265, 1285, 1305,\n",
       "       1325, 1345, 1365, 1385, 1405, 1425, 1445, 1465, 1485, 1505, 1525,\n",
       "       1545, 1565, 1585, 1605, 1625, 1645, 1665, 1685, 1705, 1725, 1745,\n",
       "       1765, 1785, 1805, 1825, 1845, 1865, 1885, 1905, 1925, 1945, 1965,\n",
       "       1985, 2005, 2025, 2045, 2065, 2085, 2105, 2125, 2145, 2165, 2185,\n",
       "       2205, 2225, 2245, 2265, 2285, 2305, 2325, 2345, 2365, 2385, 2405,\n",
       "       2425, 2445, 2465, 2485, 2505, 2525, 2545, 2565, 2585, 2605, 2625,\n",
       "       2645, 2665, 2685, 2705, 2725, 2745, 2765, 2785, 2805, 2825, 2845,\n",
       "       2865, 2885, 2905, 2925, 2945, 2965, 2985])"
      ]
     },
     "execution_count": 49,
     "metadata": {},
     "output_type": "execute_result"
    }
   ],
   "source": [
    "np.arange(5,2000,20)"
   ]
  },
  {
   "cell_type": "code",
   "execution_count": 52,
   "id": "f3d75263",
   "metadata": {},
   "outputs": [
    {
     "data": {
      "text/plain": [
       "2985"
      ]
     },
     "execution_count": 52,
     "metadata": {},
     "output_type": "execute_result"
    }
   ],
   "source": [
    "P"
   ]
  },
  {
   "cell_type": "code",
   "execution_count": null,
   "id": "73d9f102",
   "metadata": {},
   "outputs": [],
   "source": []
  }
 ],
 "metadata": {
  "kernelspec": {
   "display_name": "Python 3 (ipykernel)",
   "language": "python",
   "name": "python3"
  },
  "language_info": {
   "codemirror_mode": {
    "name": "ipython",
    "version": 3
   },
   "file_extension": ".py",
   "mimetype": "text/x-python",
   "name": "python",
   "nbconvert_exporter": "python",
   "pygments_lexer": "ipython3",
   "version": "3.8.5"
  }
 },
 "nbformat": 4,
 "nbformat_minor": 5
}
